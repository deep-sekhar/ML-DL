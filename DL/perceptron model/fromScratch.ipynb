{
 "cells": [
  {
   "cell_type": "code",
   "execution_count": 1,
   "metadata": {},
   "outputs": [
    {
     "name": "stdout",
     "output_type": "stream",
     "text": [
      "Epoch: 0 Error: [-2]\n",
      "Epoch: 1 Error: [1]\n",
      "Epoch: 2 Error: [1]\n",
      "Epoch: 3 Error: [1]\n",
      "Epoch: 4 Error: [1]\n",
      "Epoch: 5 Error: [1]\n",
      "Epoch: 6 Error: [1]\n",
      "Epoch: 7 Error: [1]\n",
      "Epoch: 8 Error: [0]\n",
      "Epoch: 9 Error: [0]\n",
      "Epoch: 10 Error: [0]\n",
      "Epoch: 11 Error: [0]\n",
      "Epoch: 12 Error: [0]\n",
      "Epoch: 13 Error: [0]\n",
      "Epoch: 14 Error: [0]\n",
      "Epoch: 15 Error: [0]\n",
      "Epoch: 16 Error: [0]\n",
      "Epoch: 17 Error: [0]\n",
      "Epoch: 18 Error: [0]\n",
      "Epoch: 19 Error: [0]\n",
      "Epoch: 20 Error: [0]\n",
      "Epoch: 21 Error: [0]\n",
      "Epoch: 22 Error: [0]\n",
      "Epoch: 23 Error: [0]\n",
      "Epoch: 24 Error: [0]\n",
      "Epoch: 25 Error: [0]\n",
      "Epoch: 26 Error: [0]\n",
      "Epoch: 27 Error: [0]\n",
      "Epoch: 28 Error: [0]\n",
      "Epoch: 29 Error: [0]\n",
      "Epoch: 30 Error: [0]\n",
      "Epoch: 31 Error: [0]\n",
      "Epoch: 32 Error: [0]\n",
      "Epoch: 33 Error: [0]\n",
      "Epoch: 34 Error: [0]\n",
      "Epoch: 35 Error: [0]\n",
      "Epoch: 36 Error: [0]\n",
      "Epoch: 37 Error: [0]\n",
      "Epoch: 38 Error: [0]\n",
      "Epoch: 39 Error: [0]\n",
      "Epoch: 40 Error: [0]\n",
      "Epoch: 41 Error: [0]\n",
      "Epoch: 42 Error: [0]\n",
      "Epoch: 43 Error: [0]\n",
      "Epoch: 44 Error: [0]\n",
      "Epoch: 45 Error: [0]\n",
      "Epoch: 46 Error: [0]\n",
      "Epoch: 47 Error: [0]\n",
      "Epoch: 48 Error: [0]\n",
      "Epoch: 49 Error: [0]\n",
      "Accuracy: 1.0\n"
     ]
    }
   ],
   "source": [
    "import pandas as pd\n",
    "import numpy as np\n",
    "from sklearn.datasets import load_iris\n",
    "\n",
    "iris = load_iris()\n",
    "\n",
    "X = iris.data[:, [2, 3]]  # petal length, petal width\n",
    "y = (iris.target == 0).astype(np.int_)  # Iris Setosa\n",
    "\n",
    "weights = np.random.rand(2)\n",
    "bias = np.random.rand(1)\n",
    "\n",
    "def step_function(z):\n",
    "    return np.where(z >= 0, 1, 0)\n",
    "\n",
    "learning_rate = 0.1\n",
    "epochs = 50\n",
    "\n",
    "for epoch in range(epochs):\n",
    "    sum_error = 0\n",
    "    for xi, yi in zip(X, y):\n",
    "        z = np.dot(xi, weights) + bias\n",
    "        y_hat = step_function(z)\n",
    "        error = yi - y_hat\n",
    "        weights += learning_rate * error * xi\n",
    "        bias += learning_rate * error\n",
    "        sum_error += error\n",
    "    print('Epoch:', epoch, 'Error:', sum_error)\n",
    "\n",
    "weights += learning_rate * error * xi\n",
    "bias += learning_rate * error\n"
   ]
  },
  {
   "cell_type": "code",
   "execution_count": 2,
   "metadata": {},
   "outputs": [
    {
     "name": "stdout",
     "output_type": "stream",
     "text": [
      "Accuracy: 1.0\n"
     ]
    }
   ],
   "source": [
    "y_pred = step_function(np.dot(X, weights) + bias)\n",
    "accuracy = np.mean(y_pred == y)\n",
    "print('Accuracy:', accuracy)"
   ]
  }
 ],
 "metadata": {
  "kernelspec": {
   "display_name": "Python 3",
   "language": "python",
   "name": "python3"
  },
  "language_info": {
   "codemirror_mode": {
    "name": "ipython",
    "version": 3
   },
   "file_extension": ".py",
   "mimetype": "text/x-python",
   "name": "python",
   "nbconvert_exporter": "python",
   "pygments_lexer": "ipython3",
   "version": "3.9.5"
  },
  "orig_nbformat": 4
 },
 "nbformat": 4,
 "nbformat_minor": 2
}
